{
 "cells": [
  {
   "cell_type": "markdown",
   "id": "e078eb56",
   "metadata": {
    "papermill": {
     "duration": 0.030101,
     "end_time": "2022-01-16T12:06:11.777776",
     "exception": false,
     "start_time": "2022-01-16T12:06:11.747675",
     "status": "completed"
    },
    "tags": []
   },
   "source": [
    "# **Import Libraries**"
   ]
  },
  {
   "cell_type": "code",
   "execution_count": null,
   "id": "6163b3f4",
   "metadata": {
    "execution": {
     "iopub.execute_input": "2022-01-16T12:06:11.843506Z",
     "iopub.status.busy": "2022-01-16T12:06:11.842851Z",
     "iopub.status.idle": "2022-01-16T12:06:13.237698Z",
     "shell.execute_reply": "2022-01-16T12:06:13.236846Z",
     "shell.execute_reply.started": "2022-01-16T10:56:16.964225Z"
    },
    "papermill": {
     "duration": 1.431536,
     "end_time": "2022-01-16T12:06:13.237868",
     "exception": false,
     "start_time": "2022-01-16T12:06:11.806332",
     "status": "completed"
    },
    "tags": []
   },
   "outputs": [],
   "source": [
    "import pandas as pd\n",
    "import numpy as np\n",
    "import seaborn as sns\n",
    "import matplotlib.pyplot as plt\n",
    "from sklearn.model_selection import train_test_split\n",
    "from sklearn.metrics import accuracy_score \n",
    "from sklearn.preprocessing import OrdinalEncoder\n",
    "from sklearn.tree import DecisionTreeClassifier\n",
    "from sklearn.ensemble import GradientBoostingClassifier\n",
    "from xgboost import XGBClassifier\n",
    "from pandas import DataFrame\n"
   ]
  },
  {
   "cell_type": "markdown",
   "id": "101dc599",
   "metadata": {
    "papermill": {
     "duration": 0.029236,
     "end_time": "2022-01-16T12:06:13.295953",
     "exception": false,
     "start_time": "2022-01-16T12:06:13.266717",
     "status": "completed"
    },
    "tags": []
   },
   "source": [
    "# **Loading Dataset**"
   ]
  },
  {
   "cell_type": "code",
   "execution_count": null,
   "id": "a548b6d1",
   "metadata": {
    "execution": {
     "iopub.execute_input": "2022-01-16T12:06:13.358902Z",
     "iopub.status.busy": "2022-01-16T12:06:13.358128Z",
     "iopub.status.idle": "2022-01-16T12:06:13.401196Z",
     "shell.execute_reply": "2022-01-16T12:06:13.401744Z",
     "shell.execute_reply.started": "2022-01-16T10:56:18.108193Z"
    },
    "papermill": {
     "duration": 0.077615,
     "end_time": "2022-01-16T12:06:13.401911",
     "exception": false,
     "start_time": "2022-01-16T12:06:13.324296",
     "status": "completed"
    },
    "tags": []
   },
   "outputs": [],
   "source": [
    "# Load dataset\n",
    "#df = pd.read_csv('../input/ucidata/crx.data',header=None)\n",
    "header_names=['A','B','C','D','E','F','G','H','I','J','K','L','M','N','O','P']\n",
    "df = pd.read_csv('../Data/CC-approvals.data',names=header_names)\n",
    "\n",
    "# Inspect data\n",
    "df.head()"
   ]
  },
  {
   "cell_type": "markdown",
   "id": "54fb5fc3",
   "metadata": {
    "papermill": {
     "duration": 0.02872,
     "end_time": "2022-01-16T12:06:13.460474",
     "exception": false,
     "start_time": "2022-01-16T12:06:13.431754",
     "status": "completed"
    },
    "tags": []
   },
   "source": [
    "##  **Knowing the data**"
   ]
  },
  {
   "cell_type": "code",
   "execution_count": null,
   "id": "961169f6",
   "metadata": {
    "execution": {
     "iopub.execute_input": "2022-01-16T12:06:13.521381Z",
     "iopub.status.busy": "2022-01-16T12:06:13.520759Z",
     "iopub.status.idle": "2022-01-16T12:06:13.544736Z",
     "shell.execute_reply": "2022-01-16T12:06:13.545249Z",
     "shell.execute_reply.started": "2022-01-16T10:56:19.001542Z"
    },
    "papermill": {
     "duration": 0.056025,
     "end_time": "2022-01-16T12:06:13.545421",
     "exception": false,
     "start_time": "2022-01-16T12:06:13.489396",
     "status": "completed"
    },
    "tags": []
   },
   "outputs": [],
   "source": [
    "# dataframe information\n",
    "df.info()"
   ]
  },
  {
   "cell_type": "code",
   "execution_count": null,
   "id": "1471e262",
   "metadata": {
    "execution": {
     "iopub.execute_input": "2022-01-16T12:06:13.610480Z",
     "iopub.status.busy": "2022-01-16T12:06:13.609794Z",
     "iopub.status.idle": "2022-01-16T12:06:13.633098Z",
     "shell.execute_reply": "2022-01-16T12:06:13.633702Z",
     "shell.execute_reply.started": "2022-01-16T10:56:19.307027Z"
    },
    "papermill": {
     "duration": 0.057328,
     "end_time": "2022-01-16T12:06:13.633886",
     "exception": false,
     "start_time": "2022-01-16T12:06:13.576558",
     "status": "completed"
    },
    "tags": []
   },
   "outputs": [],
   "source": [
    "# summary statistics\n",
    "df.describe()"
   ]
  },
  {
   "cell_type": "markdown",
   "id": "2aada74d",
   "metadata": {
    "papermill": {
     "duration": 0.029447,
     "end_time": "2022-01-16T12:06:13.693152",
     "exception": false,
     "start_time": "2022-01-16T12:06:13.663705",
     "status": "completed"
    },
    "tags": []
   },
   "source": [
    "## **Inspect missing values in the dataset**\n"
   ]
  },
  {
   "cell_type": "code",
   "execution_count": null,
   "id": "f8e1d249",
   "metadata": {
    "execution": {
     "iopub.execute_input": "2022-01-16T12:06:13.756406Z",
     "iopub.status.busy": "2022-01-16T12:06:13.755737Z",
     "iopub.status.idle": "2022-01-16T12:06:13.796223Z",
     "shell.execute_reply": "2022-01-16T12:06:13.796717Z",
     "shell.execute_reply.started": "2022-01-16T10:56:19.874515Z"
    },
    "papermill": {
     "duration": 0.0741,
     "end_time": "2022-01-16T12:06:13.796884",
     "exception": false,
     "start_time": "2022-01-16T12:06:13.722784",
     "status": "completed"
    },
    "tags": []
   },
   "outputs": [],
   "source": [
    "df.head(50)"
   ]
  },
  {
   "cell_type": "code",
   "execution_count": null,
   "id": "83368e05",
   "metadata": {
    "execution": {
     "iopub.execute_input": "2022-01-16T12:06:13.879824Z",
     "iopub.status.busy": "2022-01-16T12:06:13.879077Z",
     "iopub.status.idle": "2022-01-16T12:06:13.905319Z",
     "shell.execute_reply": "2022-01-16T12:06:13.905798Z",
     "shell.execute_reply.started": "2022-01-16T10:56:20.140513Z"
    },
    "papermill": {
     "duration": 0.077431,
     "end_time": "2022-01-16T12:06:13.905969",
     "exception": false,
     "start_time": "2022-01-16T12:06:13.828538",
     "status": "completed"
    },
    "tags": []
   },
   "outputs": [],
   "source": [
    "df.tail(50)"
   ]
  },
  {
   "cell_type": "code",
   "execution_count": null,
   "id": "1e1bf185",
   "metadata": {
    "execution": {
     "iopub.execute_input": "2022-01-16T12:06:13.978428Z",
     "iopub.status.busy": "2022-01-16T12:06:13.975891Z",
     "iopub.status.idle": "2022-01-16T12:06:13.987642Z",
     "shell.execute_reply": "2022-01-16T12:06:13.986848Z",
     "shell.execute_reply.started": "2022-01-16T10:56:20.348665Z"
    },
    "papermill": {
     "duration": 0.048,
     "end_time": "2022-01-16T12:06:13.987797",
     "exception": false,
     "start_time": "2022-01-16T12:06:13.939797",
     "status": "completed"
    },
    "tags": []
   },
   "outputs": [],
   "source": [
    "# for each of the categorical columns, lets see the unique values\n",
    "for i in df.columns:\n",
    "    #print(i)\n",
    "    if df[i].dtype==object:\n",
    "        print(df[i].unique())"
   ]
  },
  {
   "cell_type": "markdown",
   "id": "92521599",
   "metadata": {
    "papermill": {
     "duration": 0.033926,
     "end_time": "2022-01-16T12:06:14.055815",
     "exception": false,
     "start_time": "2022-01-16T12:06:14.021889",
     "status": "completed"
    },
    "tags": []
   },
   "source": [
    "We can see the null values are represented by $?$ in the dataset.\n",
    "* Let's first replace $?$ with NaN\n"
   ]
  },
  {
   "cell_type": "code",
   "execution_count": null,
   "id": "5bddd3c5",
   "metadata": {
    "execution": {
     "iopub.execute_input": "2022-01-16T12:06:14.127047Z",
     "iopub.status.busy": "2022-01-16T12:06:14.126404Z",
     "iopub.status.idle": "2022-01-16T12:06:14.131788Z",
     "shell.execute_reply": "2022-01-16T12:06:14.132397Z",
     "shell.execute_reply.started": "2022-01-16T10:56:21.790685Z"
    },
    "papermill": {
     "duration": 0.042792,
     "end_time": "2022-01-16T12:06:14.132560",
     "exception": false,
     "start_time": "2022-01-16T12:06:14.089768",
     "status": "completed"
    },
    "tags": []
   },
   "outputs": [],
   "source": [
    "df = df.replace('?',np.nan)"
   ]
  },
  {
   "cell_type": "code",
   "execution_count": null,
   "id": "3d8361ca",
   "metadata": {
    "execution": {
     "iopub.execute_input": "2022-01-16T12:06:14.210826Z",
     "iopub.status.busy": "2022-01-16T12:06:14.207381Z",
     "iopub.status.idle": "2022-01-16T12:06:14.213717Z",
     "shell.execute_reply": "2022-01-16T12:06:14.213241Z",
     "shell.execute_reply.started": "2022-01-16T10:56:22.197753Z"
    },
    "papermill": {
     "duration": 0.048053,
     "end_time": "2022-01-16T12:06:14.213852",
     "exception": false,
     "start_time": "2022-01-16T12:06:14.165799",
     "status": "completed"
    },
    "tags": []
   },
   "outputs": [],
   "source": [
    "## Lets modify the functions to make them more readable \n",
    "\n",
    "def missing_values(df):\n",
    "    ''' This function takes a data frame as input \n",
    "    prints the fraction of entries with missing values (NaN)\n",
    "    prints the list of columns with corresponding number of missing values\n",
    "    '''\n",
    "    # Total number of entries (rows X columns) in the dataset\n",
    "    total= df.size\n",
    "    #Number of missing values per column\n",
    "    missingCount = df.isnull().sum()\n",
    "    #Total number of missing values\n",
    "    missing_tot = missingCount.sum()\n",
    "    # Calculate percentage of missing values\n",
    "    #print('general info of dataframe \\n\\n\\n\\n',df.info())\n",
    "    print(f'Total number of missing values for each column of dataframe: \\n \\b \\b \\b',missingCount)\n",
    "    print(\"The dataset contains\", round(((missing_tot/total) * 100), 2), \"%\", \"missing values.\\n\\n\\n\")\n",
    "    \n",
    "    \n",
    "def column_missingdata(df):\n",
    "    ''' This function takes a data frame as input \n",
    "    prints the list of columns with corresponding % of missing values\n",
    "    '''\n",
    "    #check for missing values per column\n",
    "    values=df.isnull().sum()#.sort_values(ascending=False)\n",
    "    total= df.size\n",
    "    #percentage of missing values per column\n",
    "    percentage=(values/total) * 100\n",
    "    print(f'% of missing values for each column of dataframe: \\n \\b \\b \\b',percentage,'\\n\\n\\n')\n",
    "\n",
    "def plot_missingdata(df:pd.DataFrame, title:str, xlabel:str, ylabel:str):\n",
    "    ''' This function takes a data frame as input \n",
    "    plots the list of columns with corresponding total number of missing values\n",
    "    '''\n",
    "    # Let us see what columns have missing values\n",
    "    # total number of missing values for each dataframe column\n",
    "    missing = df.isnull().sum() \n",
    "    # keeping only the columns with missing values>0 \n",
    "    missing = missing[missing > 0] \n",
    "    # sorting in order of missing values and making the change to original missing series\n",
    "    missing.sort_values(inplace=True) \n",
    "    missing.plot.bar(color='blue')\n",
    "    plt.title(title, size=15)\n",
    "    plt.xticks(fontsize=11,rotation=45)\n",
    "    plt.yticks(fontsize=11)\n",
    "    plt.xlabel(xlabel, fontsize=13)\n",
    "    plt.ylabel(ylabel, fontsize=13)\n",
    "    plt.show()"
   ]
  },
  {
   "cell_type": "code",
   "execution_count": null,
   "id": "995bc236",
   "metadata": {
    "execution": {
     "iopub.execute_input": "2022-01-16T12:06:14.304784Z",
     "iopub.status.busy": "2022-01-16T12:06:14.290876Z",
     "iopub.status.idle": "2022-01-16T12:06:14.548998Z",
     "shell.execute_reply": "2022-01-16T12:06:14.548443Z",
     "shell.execute_reply.started": "2022-01-16T10:56:22.886015Z"
    },
    "papermill": {
     "duration": 0.301325,
     "end_time": "2022-01-16T12:06:14.549138",
     "exception": false,
     "start_time": "2022-01-16T12:06:14.247813",
     "status": "completed"
    },
    "tags": []
   },
   "outputs": [],
   "source": [
    "missing_values(df)\n",
    "column_missingdata(df)\n",
    "plot_missingdata(df,'columns with missing values','Column Name','No. of Missing values')"
   ]
  },
  {
   "cell_type": "code",
   "execution_count": null,
   "id": "dfef93fb",
   "metadata": {
    "execution": {
     "iopub.execute_input": "2022-01-16T12:06:14.627997Z",
     "iopub.status.busy": "2022-01-16T12:06:14.627370Z",
     "iopub.status.idle": "2022-01-16T12:06:14.629993Z",
     "shell.execute_reply": "2022-01-16T12:06:14.630505Z",
     "shell.execute_reply.started": "2022-01-16T10:56:23.680983Z"
    },
    "papermill": {
     "duration": 0.045603,
     "end_time": "2022-01-16T12:06:14.630669",
     "exception": false,
     "start_time": "2022-01-16T12:06:14.585066",
     "status": "completed"
    },
    "tags": []
   },
   "outputs": [],
   "source": [
    "def fix_missing_mean(df,col):\n",
    "    ''' This function takes a data frame as input \n",
    "    replaces the missing values of a particular column with it's mean value\n",
    "    '''\n",
    "    #replace missing values with mean \n",
    "    df[col] = pd.to_numeric(df[col], errors = 'coerce')\n",
    "    df[col].fillna(df[col].mean(), inplace = True)    \n",
    "\n",
    "def fix_missing_mode(df,col):\n",
    "    ''' This function takes a data frame as input \n",
    "    replaces the missing values of a particular column with it's mean value\n",
    "    '''\n",
    "    #replace missing values with mode \n",
    "    #df[col] = pd.to_numeric(df[col], errors = 'coerce')\n",
    "    df[col].fillna(df[col].mode(), inplace = True)    \n",
    "\n",
    "    \n",
    "def fix_missing_ffill(df, col):\n",
    "    ''' This function takes a data frame as input \n",
    "    replaces the missing values of a particular column with the value from the previous row\n",
    "    '''\n",
    "    #df[col] = pd.to_numeric(df[col], errors = 'coerce')\n",
    "    df[col] = df[col].fillna(method='ffill')  \n",
    "    \n",
    "def fix_missing_bfill(df, col):\n",
    "    ''' This function takes a data frame as input \n",
    "    replaces the missing values of a particular column with the value from the next row\n",
    "    '''\n",
    "    #df[col] = pd.to_numeric(df[col], errors = 'coerce')\n",
    "    df[col] = df[col].fillna(method='bfill')     "
   ]
  },
  {
   "cell_type": "code",
   "execution_count": null,
   "id": "001ddf53",
   "metadata": {
    "execution": {
     "iopub.execute_input": "2022-01-16T12:06:14.715006Z",
     "iopub.status.busy": "2022-01-16T12:06:14.705494Z",
     "iopub.status.idle": "2022-01-16T12:06:14.723842Z",
     "shell.execute_reply": "2022-01-16T12:06:14.724392Z",
     "shell.execute_reply.started": "2022-01-16T10:56:24.321863Z"
    },
    "papermill": {
     "duration": 0.059095,
     "end_time": "2022-01-16T12:06:14.724575",
     "exception": false,
     "start_time": "2022-01-16T12:06:14.665480",
     "status": "completed"
    },
    "tags": []
   },
   "outputs": [],
   "source": [
    "fix_missing_ffill(df,'A')\n",
    "fix_missing_ffill(df,'B')\n",
    "fix_missing_ffill(df,'D')\n",
    "fix_missing_ffill(df,'E')\n",
    "fix_missing_ffill(df,'F')\n",
    "fix_missing_ffill(df,'G')\n",
    "fix_missing_mean(df,'N')\n",
    "missing_values(df)"
   ]
  },
  {
   "cell_type": "code",
   "execution_count": null,
   "id": "5e3f57a2",
   "metadata": {
    "execution": {
     "iopub.execute_input": "2022-01-16T12:06:14.799195Z",
     "iopub.status.busy": "2022-01-16T12:06:14.798534Z",
     "iopub.status.idle": "2022-01-16T12:06:14.816705Z",
     "shell.execute_reply": "2022-01-16T12:06:14.817325Z",
     "shell.execute_reply.started": "2022-01-16T10:56:25.195084Z"
    },
    "papermill": {
     "duration": 0.05691,
     "end_time": "2022-01-16T12:06:14.817490",
     "exception": false,
     "start_time": "2022-01-16T12:06:14.760580",
     "status": "completed"
    },
    "tags": []
   },
   "outputs": [],
   "source": [
    "df.head()"
   ]
  },
  {
   "cell_type": "code",
   "execution_count": null,
   "id": "86c0437f",
   "metadata": {
    "execution": {
     "iopub.execute_input": "2022-01-16T12:06:14.891545Z",
     "iopub.status.busy": "2022-01-16T12:06:14.890903Z",
     "iopub.status.idle": "2022-01-16T12:06:14.910725Z",
     "shell.execute_reply": "2022-01-16T12:06:14.911339Z",
     "shell.execute_reply.started": "2022-01-16T10:56:26.134027Z"
    },
    "papermill": {
     "duration": 0.058585,
     "end_time": "2022-01-16T12:06:14.911510",
     "exception": false,
     "start_time": "2022-01-16T12:06:14.852925",
     "status": "completed"
    },
    "tags": []
   },
   "outputs": [],
   "source": [
    "# Separate target from features\n",
    "y = df['P']\n",
    "features = df.drop(['P'], axis=1)\n",
    "# Preview features\n",
    "features.head()"
   ]
  },
  {
   "cell_type": "code",
   "execution_count": null,
   "id": "df3cdae7",
   "metadata": {
    "execution": {
     "iopub.execute_input": "2022-01-16T12:06:14.987553Z",
     "iopub.status.busy": "2022-01-16T12:06:14.986914Z",
     "iopub.status.idle": "2022-01-16T12:06:15.164997Z",
     "shell.execute_reply": "2022-01-16T12:06:15.164351Z",
     "shell.execute_reply.started": "2022-01-16T10:56:27.147945Z"
    },
    "papermill": {
     "duration": 0.217554,
     "end_time": "2022-01-16T12:06:15.165140",
     "exception": false,
     "start_time": "2022-01-16T12:06:14.947586",
     "status": "completed"
    },
    "tags": []
   },
   "outputs": [],
   "source": [
    "fig, ax = plt.subplots(1, 1, figsize=(7,5), sharex=True)\n",
    "sns.countplot(data=df, x='P',edgecolor=\"white\",palette=\"viridis\",order=df[\"P\"].value_counts().index)\n",
    "total = df['P'].value_counts().sum()\n",
    "plt.xticks(fontsize=14)\n",
    "plt.yticks(fontsize=14)\n",
    "plt.xlabel('P', fontsize=16)\n",
    "plt.ylabel('count', fontsize=16)\n",
    "\n",
    "plt.show()"
   ]
  },
  {
   "cell_type": "code",
   "execution_count": null,
   "id": "475a9b55",
   "metadata": {
    "execution": {
     "iopub.execute_input": "2022-01-16T12:06:15.253754Z",
     "iopub.status.busy": "2022-01-16T12:06:15.251601Z",
     "iopub.status.idle": "2022-01-16T12:06:15.279238Z",
     "shell.execute_reply": "2022-01-16T12:06:15.279746Z",
     "shell.execute_reply.started": "2022-01-16T10:56:29.545587Z"
    },
    "papermill": {
     "duration": 0.078192,
     "end_time": "2022-01-16T12:06:15.279919",
     "exception": false,
     "start_time": "2022-01-16T12:06:15.201727",
     "status": "completed"
    },
    "tags": []
   },
   "outputs": [],
   "source": [
    "# List of categorical columns\n",
    "object_cols = ['A','B','D','E','F','G','I','J','L','M','N']\n",
    "\n",
    "# ordinal-encode categorical columns\n",
    "X = features.copy()\n",
    "ordinal_encoder = OrdinalEncoder()\n",
    "X[object_cols] = ordinal_encoder.fit_transform(features[object_cols])\n",
    "\n",
    "# Preview the ordinal-encoded features\n",
    "X.head()\n"
   ]
  },
  {
   "cell_type": "code",
   "execution_count": null,
   "id": "6e59454e",
   "metadata": {
    "execution": {
     "iopub.execute_input": "2022-01-16T12:06:15.357922Z",
     "iopub.status.busy": "2022-01-16T12:06:15.357263Z",
     "iopub.status.idle": "2022-01-16T12:06:15.370269Z",
     "shell.execute_reply": "2022-01-16T12:06:15.371114Z",
     "shell.execute_reply.started": "2022-01-16T10:56:31.992238Z"
    },
    "papermill": {
     "duration": 0.054425,
     "end_time": "2022-01-16T12:06:15.371462",
     "exception": false,
     "start_time": "2022-01-16T12:06:15.317037",
     "status": "completed"
    },
    "tags": []
   },
   "outputs": [],
   "source": [
    "X.info()"
   ]
  },
  {
   "cell_type": "code",
   "execution_count": null,
   "id": "e2a272c3",
   "metadata": {
    "execution": {
     "iopub.execute_input": "2022-01-16T12:06:15.453214Z",
     "iopub.status.busy": "2022-01-16T12:06:15.452559Z",
     "iopub.status.idle": "2022-01-16T12:06:17.025749Z",
     "shell.execute_reply": "2022-01-16T12:06:17.026249Z",
     "shell.execute_reply.started": "2022-01-16T10:22:55.107173Z"
    },
    "papermill": {
     "duration": 1.614581,
     "end_time": "2022-01-16T12:06:17.026421",
     "exception": false,
     "start_time": "2022-01-16T12:06:15.411840",
     "status": "completed"
    },
    "tags": []
   },
   "outputs": [],
   "source": [
    "fig, ax = plt.subplots(1, 1, figsize=(17,15))\n",
    "sns.heatmap(X.corr(), annot = True)"
   ]
  },
  {
   "cell_type": "code",
   "execution_count": null,
   "id": "d71c181c",
   "metadata": {
    "execution": {
     "iopub.execute_input": "2022-01-16T12:06:17.115616Z",
     "iopub.status.busy": "2022-01-16T12:06:17.114353Z",
     "iopub.status.idle": "2022-01-16T12:06:17.119100Z",
     "shell.execute_reply": "2022-01-16T12:06:17.119589Z",
     "shell.execute_reply.started": "2022-01-16T10:59:12.264053Z"
    },
    "papermill": {
     "duration": 0.05176,
     "end_time": "2022-01-16T12:06:17.119762",
     "exception": false,
     "start_time": "2022-01-16T12:06:17.068002",
     "status": "completed"
    },
    "tags": []
   },
   "outputs": [],
   "source": [
    "xTrain, xTest, yTrain, yTest = train_test_split(X, y,test_size=0.30,random_state=2)"
   ]
  },
  {
   "cell_type": "markdown",
   "id": "d0394337",
   "metadata": {
    "papermill": {
     "duration": 0.041226,
     "end_time": "2022-01-16T12:06:17.202336",
     "exception": false,
     "start_time": "2022-01-16T12:06:17.161110",
     "status": "completed"
    },
    "tags": []
   },
   "source": [
    "## **Classifiers**"
   ]
  },
  {
   "cell_type": "markdown",
   "id": "bb81ef16",
   "metadata": {
    "papermill": {
     "duration": 0.041737,
     "end_time": "2022-01-16T12:06:17.285213",
     "exception": false,
     "start_time": "2022-01-16T12:06:17.243476",
     "status": "completed"
    },
    "tags": []
   },
   "source": [
    "#### **Decision Tree**"
   ]
  },
  {
   "cell_type": "code",
   "execution_count": null,
   "id": "2c5d5720",
   "metadata": {
    "execution": {
     "iopub.execute_input": "2022-01-16T12:06:17.371260Z",
     "iopub.status.busy": "2022-01-16T12:06:17.370586Z",
     "iopub.status.idle": "2022-01-16T12:06:17.681059Z",
     "shell.execute_reply": "2022-01-16T12:06:17.681635Z",
     "shell.execute_reply.started": "2022-01-16T10:22:56.706533Z"
    },
    "papermill": {
     "duration": 0.355122,
     "end_time": "2022-01-16T12:06:17.681805",
     "exception": false,
     "start_time": "2022-01-16T12:06:17.326683",
     "status": "completed"
    },
    "tags": []
   },
   "outputs": [],
   "source": [
    "train_acc=[]\n",
    "test_acc=[]\n",
    "list_score=[]\n",
    "p=[]\n",
    "\n",
    "for i in range(1, 10):\n",
    "    \n",
    "    dtc = DecisionTreeClassifier(max_depth = i ,random_state = 0)\n",
    "    dtc.fit(xTrain, yTrain)\n",
    "\n",
    "    train_pred = dtc.predict(xTrain)\n",
    "    #train_acc.append(score(train_pred, yTrain))\n",
    "    \n",
    "    test_pred = dtc.predict(xTest)\n",
    "    #test_acc.append(score(test_pred, yTest))\n",
    "    test_acc = accuracy_score(yTest, test_pred)\n",
    "    train_acc = accuracy_score(yTrain, train_pred)\n",
    "    print(i,'Train score:',train_acc,'Test score:',test_acc)\n",
    "\n",
    "    list_score.append([i,accuracy_score(train_pred, yTrain),accuracy_score(test_pred, yTest)]) \n",
    "    \n",
    "    \n",
    "df2 = DataFrame (list_score,columns=['Depth','Train Accuracy','Test Accuracy'])\n",
    "plt.plot(df2['Depth'],df2['Test Accuracy'],label='Test Accuracy')\n",
    "plt.plot(df2['Depth'],df2['Train Accuracy'],label='Train Accuracy')\n",
    "plt.xlabel('Depth')\n",
    "plt.ylabel('Accuracy')\n",
    "plt.legend()    "
   ]
  },
  {
   "cell_type": "markdown",
   "id": "70f47f65",
   "metadata": {
    "papermill": {
     "duration": 0.043091,
     "end_time": "2022-01-16T12:06:17.768021",
     "exception": false,
     "start_time": "2022-01-16T12:06:17.724930",
     "status": "completed"
    },
    "tags": []
   },
   "source": [
    "#### **Gradient Boost**"
   ]
  },
  {
   "cell_type": "code",
   "execution_count": null,
   "id": "d2595c4a",
   "metadata": {
    "execution": {
     "iopub.execute_input": "2022-01-16T12:06:17.868117Z",
     "iopub.status.busy": "2022-01-16T12:06:17.864215Z",
     "iopub.status.idle": "2022-01-16T12:06:18.202739Z",
     "shell.execute_reply": "2022-01-16T12:06:18.202147Z",
     "shell.execute_reply.started": "2022-01-16T10:22:57.060473Z"
    },
    "papermill": {
     "duration": 0.39138,
     "end_time": "2022-01-16T12:06:18.202922",
     "exception": false,
     "start_time": "2022-01-16T12:06:17.811542",
     "status": "completed"
    },
    "tags": []
   },
   "outputs": [],
   "source": [
    "clf = GradientBoostingClassifier(random_state=0)\n",
    "clf.fit(xTrain, yTrain)\n",
    "\n",
    "train_predict = clf.predict(xTrain)\n",
    "test_predict = clf.predict(xTest)\n",
    "\n",
    "\n",
    "test_acc = accuracy_score(yTest, test_predict)\n",
    "train_acc = accuracy_score(yTrain, train_predict)\n",
    "print('Train score:',train_acc,'Test score:',test_acc)\n",
    "\n",
    "\n",
    "\n",
    "# Plot feature importance \n",
    "feature_importance = clf.feature_importances_\n",
    "# make importances relative to max importance\n",
    "feature_importance = 100.0 * (feature_importance / feature_importance.max())\n",
    "sorted_idx = np.argsort(feature_importance)\n",
    "pos = np.arange(sorted_idx.shape[0]) + .5\n",
    "# plt.subplot(1, 2, 2)\n",
    "plt.figure(figsize=(7, 9))\n",
    "plt.barh(pos, feature_importance[sorted_idx], align='center')\n",
    "plt.yticks(pos, X.keys()[sorted_idx])\n",
    "plt.xlabel('Importance',fontsize=16)\n",
    "plt.ylabel('Features',fontsize=16)\n",
    "plt.show()"
   ]
  },
  {
   "cell_type": "markdown",
   "id": "fd22c44e",
   "metadata": {
    "papermill": {
     "duration": 0.044393,
     "end_time": "2022-01-16T12:06:18.292327",
     "exception": false,
     "start_time": "2022-01-16T12:06:18.247934",
     "status": "completed"
    },
    "tags": []
   },
   "source": [
    "#### **XGBoost**"
   ]
  },
  {
   "cell_type": "code",
   "execution_count": null,
   "id": "4c6daa72",
   "metadata": {
    "execution": {
     "iopub.execute_input": "2022-01-16T12:06:18.388718Z",
     "iopub.status.busy": "2022-01-16T12:06:18.387737Z",
     "iopub.status.idle": "2022-01-16T12:06:18.694007Z",
     "shell.execute_reply": "2022-01-16T12:06:18.694667Z",
     "shell.execute_reply.started": "2022-01-16T10:22:57.409696Z"
    },
    "papermill": {
     "duration": 0.357867,
     "end_time": "2022-01-16T12:06:18.694856",
     "exception": false,
     "start_time": "2022-01-16T12:06:18.336989",
     "status": "completed"
    },
    "tags": []
   },
   "outputs": [],
   "source": [
    "from sklearn.preprocessing import LabelEncoder\n",
    "\n",
    "# Assuming your target variable y has values like '+', '-'\n",
    "# Encode the target variable\n",
    "le = LabelEncoder()\n",
    "yTrain = le.fit_transform(yTrain)\n",
    "yTest = le.transform(yTest)\n",
    "\n",
    "# Now you can train your model\n",
    "model = XGBClassifier()\n",
    "model.fit(xTrain, yTrain)\n",
    "\n",
    "train_predict = model.predict(xTrain)\n",
    "test_predict = model.predict(xTest)\n",
    "\n",
    "test_acc = accuracy_score(yTest, test_predict)\n",
    "train_acc = accuracy_score(yTrain, train_predict)\n",
    "print('Train score:', train_acc, 'Test score:', test_acc)\n"
   ]
  },
  {
   "cell_type": "markdown",
   "id": "a4b27336",
   "metadata": {
    "papermill": {
     "duration": 0.044766,
     "end_time": "2022-01-16T12:06:18.785973",
     "exception": false,
     "start_time": "2022-01-16T12:06:18.741207",
     "status": "completed"
    },
    "tags": []
   },
   "source": [
    "#### **KNN**"
   ]
  },
  {
   "cell_type": "code",
   "execution_count": null,
   "id": "2e6787fb",
   "metadata": {
    "execution": {
     "iopub.execute_input": "2022-01-16T12:06:18.884526Z",
     "iopub.status.busy": "2022-01-16T12:06:18.883870Z",
     "iopub.status.idle": "2022-01-16T12:06:18.928143Z",
     "shell.execute_reply": "2022-01-16T12:06:18.927093Z",
     "shell.execute_reply.started": "2022-01-16T10:22:57.738838Z"
    },
    "papermill": {
     "duration": 0.096866,
     "end_time": "2022-01-16T12:06:18.928418",
     "exception": false,
     "start_time": "2022-01-16T12:06:18.831552",
     "status": "completed"
    },
    "tags": []
   },
   "outputs": [],
   "source": [
    "from sklearn.neighbors import KNeighborsClassifier\n",
    "knn = KNeighborsClassifier(n_neighbors=5)\n",
    "\n",
    "knn.fit(xTrain,yTrain)\n",
    "\n",
    "train_predict = knn.predict(xTrain)\n",
    "test_predict = knn.predict(xTest)\n",
    "\n",
    "test_acc = accuracy_score(yTest, test_predict)\n",
    "train_acc = accuracy_score(yTrain, train_predict)\n",
    "print('Train score:',train_acc,'Test score:',test_acc)"
   ]
  },
  {
   "cell_type": "code",
   "execution_count": null,
   "id": "d948def6",
   "metadata": {
    "execution": {
     "iopub.execute_input": "2022-01-16T12:06:19.026521Z",
     "iopub.status.busy": "2022-01-16T12:06:19.025489Z",
     "iopub.status.idle": "2022-01-16T12:06:20.064942Z",
     "shell.execute_reply": "2022-01-16T12:06:20.064386Z",
     "shell.execute_reply.started": "2022-01-16T11:58:57.082308Z"
    },
    "papermill": {
     "duration": 1.089228,
     "end_time": "2022-01-16T12:06:20.065083",
     "exception": false,
     "start_time": "2022-01-16T12:06:18.975855",
     "status": "completed"
    },
    "tags": []
   },
   "outputs": [],
   "source": [
    "from sklearn.neighbors import KNeighborsClassifier\n",
    "\n",
    "train_acc=[]\n",
    "test_acc=[]\n",
    "list_score=[]\n",
    "\n",
    "for i in range(2, 20):\n",
    "    knn = KNeighborsClassifier(n_neighbors=i)\n",
    "\n",
    "    knn.fit(xTrain,yTrain)\n",
    "\n",
    "    train_predict = knn.predict(xTrain)\n",
    "    test_predict = knn.predict(xTest)\n",
    "\n",
    "    test_acc = accuracy_score(yTest, test_predict)\n",
    "    train_acc = accuracy_score(yTrain, train_predict)\n",
    "    print('Train score:',train_acc,'Test score:',test_acc)\n",
    "    print(i,'Train score:',train_acc,'Test score:',test_acc)\n",
    "\n",
    "    list_score.append([i,accuracy_score(train_predict, yTrain),accuracy_score(test_predict, yTest)]) \n",
    "    \n",
    "    \n",
    "df3 = DataFrame (list_score,columns=['n_neighbors','Train Accuracy','Test Accuracy'])\n",
    "plt.plot(df3['n_neighbors'],df3['Test Accuracy'],label='Test Accuracy')\n",
    "plt.plot(df3['n_neighbors'],df3['Train Accuracy'],label='Train Accuracy')\n",
    "plt.xlabel('n_neighbors')\n",
    "plt.ylabel('Accuracy')\n",
    "plt.legend()    "
   ]
  },
  {
   "cell_type": "markdown",
   "id": "82520d52",
   "metadata": {
    "papermill": {
     "duration": 0.048956,
     "end_time": "2022-01-16T12:06:20.164672",
     "exception": false,
     "start_time": "2022-01-16T12:06:20.115716",
     "status": "completed"
    },
    "tags": []
   },
   "source": [
    "#### **Logistic Regression**"
   ]
  },
  {
   "cell_type": "code",
   "execution_count": null,
   "id": "3321bb07",
   "metadata": {
    "execution": {
     "iopub.execute_input": "2022-01-16T12:06:20.276746Z",
     "iopub.status.busy": "2022-01-16T12:06:20.273565Z",
     "iopub.status.idle": "2022-01-16T12:06:20.278696Z",
     "shell.execute_reply": "2022-01-16T12:06:20.279191Z",
     "shell.execute_reply.started": "2022-01-16T10:59:21.432035Z"
    },
    "papermill": {
     "duration": 0.064396,
     "end_time": "2022-01-16T12:06:20.279362",
     "exception": false,
     "start_time": "2022-01-16T12:06:20.214966",
     "status": "completed"
    },
    "tags": []
   },
   "outputs": [],
   "source": [
    "# Import MinMaxScaler\n",
    "from sklearn.preprocessing import MinMaxScaler\n",
    "# Instantiate MinMaxScaler and use it to rescale X_train and X_test\n",
    "scaler = MinMaxScaler(feature_range=(0,1))\n",
    "rescaledxTrain = scaler.fit_transform(xTrain)\n",
    "rescaledxTest = scaler.fit_transform(xTest)\n"
   ]
  },
  {
   "cell_type": "code",
   "execution_count": null,
   "id": "ba8b7579",
   "metadata": {
    "execution": {
     "iopub.execute_input": "2022-01-16T12:06:20.382518Z",
     "iopub.status.busy": "2022-01-16T12:06:20.381894Z",
     "iopub.status.idle": "2022-01-16T12:06:20.402655Z",
     "shell.execute_reply": "2022-01-16T12:06:20.402128Z",
     "shell.execute_reply.started": "2022-01-16T10:59:21.871282Z"
    },
    "papermill": {
     "duration": 0.073926,
     "end_time": "2022-01-16T12:06:20.402801",
     "exception": false,
     "start_time": "2022-01-16T12:06:20.328875",
     "status": "completed"
    },
    "tags": []
   },
   "outputs": [],
   "source": [
    "# Import LogisticRegression\n",
    "from sklearn.linear_model import LogisticRegression\n",
    "\n",
    "# Instantiate a LogisticRegression classifier with default parameter values\n",
    "logreg = LogisticRegression()\n",
    "\n",
    "# Fit logreg to the train set\n",
    "logreg.fit(rescaledxTrain, yTrain)"
   ]
  },
  {
   "cell_type": "code",
   "execution_count": null,
   "id": "336418a2",
   "metadata": {
    "execution": {
     "iopub.execute_input": "2022-01-16T12:06:20.511729Z",
     "iopub.status.busy": "2022-01-16T12:06:20.508495Z",
     "iopub.status.idle": "2022-01-16T12:06:20.522587Z",
     "shell.execute_reply": "2022-01-16T12:06:20.522094Z",
     "shell.execute_reply.started": "2022-01-16T10:59:27.770960Z"
    },
    "papermill": {
     "duration": 0.070428,
     "end_time": "2022-01-16T12:06:20.522725",
     "exception": false,
     "start_time": "2022-01-16T12:06:20.452297",
     "status": "completed"
    },
    "tags": []
   },
   "outputs": [],
   "source": [
    "# Import confusion_matrix\n",
    "from sklearn.metrics import confusion_matrix\n",
    "# Use logreg to predict instances from the test set and store it\n",
    "y_pred = logreg.predict(rescaledxTest)\n",
    "y_pred1 = logreg.predict(rescaledxTrain)\n",
    "\n",
    "# Get the accuracy score of logreg model and print it\n",
    "print(\"Test: Accuracy = \", logreg.score(rescaledxTest,yTest))\n",
    "print(\"Train: Accuracy = \", logreg.score(rescaledxTrain,yTrain))\n",
    "\n",
    "# Print the confusion matrix of the logreg model\n",
    "confusion_matrix(yTest,y_pred)"
   ]
  },
  {
   "cell_type": "code",
   "execution_count": null,
   "id": "c1be1ba9",
   "metadata": {},
   "outputs": [],
   "source": [
    "# Round the accuracy scores to 2 decimal places and multiply by 100 for percentage (100x)\n",
    "df_table = pd.DataFrame({\n",
    "    'Algorithm': ['Decision Tree', 'Gradient Boost', 'XGBoost', 'KNN', 'Logistic Regression'],\n",
    "    'Train Accuracy': [round(df2['Train Accuracy'].max() * 100, 2), round(train_acc * 100, 2), round(train_acc * 100, 2), round(df3['Train Accuracy'].max() * 100, 2), round(logreg.score(rescaledxTrain, yTrain) * 100, 2)],\n",
    "    'Test Accuracy': [round(df2['Test Accuracy'].max() * 100, 2), round(test_acc * 100, 2), round(test_acc * 100, 2), round(df3['Test Accuracy'].max() * 100, 2), round(logreg.score(rescaledxTest, yTest) * 100, 2)]\n",
    "})\n",
    "\n",
    "# Display the table without index\n",
    "print(df_table.to_string(index=False))\n"
   ]
  }
 ],
 "metadata": {
  "kernelspec": {
   "display_name": "Python 3",
   "language": "python",
   "name": "python3"
  },
  "language_info": {
   "codemirror_mode": {
    "name": "ipython",
    "version": 3
   },
   "file_extension": ".py",
   "mimetype": "text/x-python",
   "name": "python",
   "nbconvert_exporter": "python",
   "pygments_lexer": "ipython3",
   "version": "3.11.3"
  },
  "papermill": {
   "default_parameters": {},
   "duration": 19.510696,
   "end_time": "2022-01-16T12:06:21.487320",
   "environment_variables": {},
   "exception": null,
   "input_path": "__notebook__.ipynb",
   "output_path": "__notebook__.ipynb",
   "parameters": {},
   "start_time": "2022-01-16T12:06:01.976624",
   "version": "2.3.3"
  }
 },
 "nbformat": 4,
 "nbformat_minor": 5
}
